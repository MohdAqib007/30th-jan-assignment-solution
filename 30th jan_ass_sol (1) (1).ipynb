{
 "cells": [
  {
   "cell_type": "code",
   "execution_count": 1,
   "id": "bb4d7a4a-70ac-48ca-b408-935774b97edd",
   "metadata": {},
   "outputs": [
    {
     "name": "stdin",
     "output_type": "stream",
     "text": [
      "enter your percentage 60\n"
     ]
    },
    {
     "name": "stdout",
     "output_type": "stream",
     "text": [
      "C Grade\n"
     ]
    }
   ],
   "source": [
    "#Q.1 Ans-\n",
    "\n",
    "percentage = int(input(\"enter your percentage\"))\n",
    "if percentage > 90:\n",
    "    print(\"A Grade\")\n",
    "elif percentage > 80 and percentage <= 90:\n",
    "    print(\"B Grade\")\n",
    "elif percentage >= 60 and percentage <= 80:\n",
    "    print (\"C Grade\")\n",
    "else :\n",
    "    print (\"D Grade\")\n"
   ]
  },
  {
   "cell_type": "code",
   "execution_count": 2,
   "id": "5ecd334f-c9d0-4cbf-bf00-788dd5742d17",
   "metadata": {},
   "outputs": [
    {
     "name": "stdin",
     "output_type": "stream",
     "text": [
      "The Cost Price of the Bike 800000\n"
     ]
    },
    {
     "name": "stdout",
     "output_type": "stream",
     "text": [
      "You have to pay 15% road tax\n"
     ]
    }
   ],
   "source": [
    "#Q.2 Ans-\n",
    "\n",
    "cost = int(input(\"The Cost Price of the Bike\"))\n",
    "if cost > 100000:\n",
    "    print(\"You have to pay 15% road tax\")\n",
    "elif cost > 50000 and cost <= 100000:\n",
    "    print(\"You have to pay 10% road tax\")\n",
    "else :\n",
    "    print(\"You have to pay 5% road tax\")\n"
   ]
  },
  {
   "cell_type": "code",
   "execution_count": 3,
   "id": "f18b6aa2-c34e-4c15-bd05-1ace49bbbc1f",
   "metadata": {},
   "outputs": [
    {
     "name": "stdin",
     "output_type": "stream",
     "text": [
      "If Your are visiting Delhi\n"
     ]
    },
    {
     "name": "stdout",
     "output_type": "stream",
     "text": [
      "Then you must see Red Fort\n"
     ]
    }
   ],
   "source": [
    "#Q.3 Ans-\n",
    "\n",
    "city = input(\"If Your are visiting\")\n",
    "if city == \"Delhi\":\n",
    "    print (\"Then you must see Red Fort\")\n",
    "elif city == \"Agra\":\n",
    "    print(\"Then you must see Taj Mahal\")\n",
    "elif city == \"Jaipur\":\n",
    "    print(\"Then you must see Jal Mahal\")\n",
    "else:\n",
    "    print(\"Choose a valid city\")\n"
   ]
  },
  {
   "cell_type": "code",
   "execution_count": null,
   "id": "ec3c666d-27b9-4dcf-9afb-7dc35932624f",
   "metadata": {},
   "outputs": [],
   "source": [
    "#Q.4 Ans-\n",
    "num = int(input(\"enter number\"))\n",
    "count = 0\n",
    "while num <= 10:\n",
    "    num = num / 3\n",
    "    count = count + 1\n",
    "print(count)"
   ]
  },
  {
   "cell_type": "code",
   "execution_count": null,
   "id": "c504d906-b913-4c6c-80c4-76f646614168",
   "metadata": {},
   "outputs": [],
   "source": []
  },
  {
   "cell_type": "code",
   "execution_count": 6,
   "id": "7da90956-4c41-45c4-bdc9-13915dd5d53b",
   "metadata": {},
   "outputs": [
    {
     "name": "stdout",
     "output_type": "stream",
     "text": [
      "Found at index 3\n"
     ]
    },
    {
     "data": {
      "text/plain": [
       "'In this example, we initialize the variable found to False and the variable i to 0. We then use a while loop to iterate through the list and search for the value 5. \\nThe loop continues executing the code block as long as i is less than the length of the list my_list and the value has not been found yet. If we find the value 5, we set found to True and exit the loop. Finally, we check the value of found and print a message indicating whether the value was found or not.\\nIn summary, while loops are useful in Python when we need to repeat a block of code as long as a certain condition is true. They can be used to automate repetitive tasks, perform operations on collections of data, and search for specific values within data structures, among other use cases.'"
      ]
     },
     "execution_count": 6,
     "metadata": {},
     "output_type": "execute_result"
    }
   ],
   "source": [
    "#Q.5 Ans- \n",
    "\n",
    "'''A while loop in Python is used when we need to repeatedly execute a block of code as long as a certain condition is true. This allows us to automate repetitive tasks and perform operations on collections of data, among other use cases.\n",
    "The general syntax of a while loop in Python is as follows:\n",
    "while condition:\n",
    "      code to be executed while condition is true\n",
    "The loop continues executing the code block as long as the condition is true. \n",
    "The condition is evaluated at the beginning of each iteration, and if it is false, the loop exits and control is transferred to the next statement after the loop.\n",
    "Example:- \n",
    "Use case for a while loop in Python is to search for a particular value within a list or other data structure. Here's an example program that uses a while loop to search for the first occurrence of the value 5 in a list:'''\n",
    "\n",
    "my_list = [3, 2, 8, 5, 9, 4, 7, 5, 1, 6]\n",
    "found = False\n",
    "i = 0\n",
    "while i < len(my_list) and not found:\n",
    "    if my_list[i] == 5:\n",
    "        found = True\n",
    "    else:\n",
    "        i += 1\n",
    "if found:\n",
    "    print(\"Found at index\", i)\n",
    "else:\n",
    "    print(\"Not found\")\n",
    "\n",
    "'''In this example, we initialize the variable found to False and the variable i to 0. We then use a while loop to iterate through the list and search for the value 5. \n",
    "The loop continues executing the code block as long as i is less than the length of the list my_list and the value has not been found yet. If we find the value 5, we set found to True and exit the loop. Finally, we check the value of found and print a message indicating whether the value was found or not.\n",
    "In summary, while loops are useful in Python when we need to repeat a block of code as long as a certain condition is true. They can be used to automate repetitive tasks, perform operations on collections of data, and search for specific values within data structures, among other use cases.'''\n"
   ]
  },
  {
   "cell_type": "code",
   "execution_count": null,
   "id": "ce838a77-fe22-4bee-a96c-e36fc8dbdd9a",
   "metadata": {},
   "outputs": [
    {
     "name": "stdout",
     "output_type": "stream",
     "text": [
      "*\n",
      "**\n",
      "***\n",
      "****\n",
      "*****\n",
      "1\n",
      "12\n",
      "123\n",
      "1234\n",
      "12345\n",
      "*****\n",
      "****\n",
      "***\n",
      "**\n",
      "*\n"
     ]
    }
   ],
   "source": [
    "#Q.6 Ans-\n",
    "\n",
    "'''Pattern 1:\n",
    "*\n",
    "**\n",
    "***\n",
    "****\n",
    "*****  '''\n",
    "\n",
    "#Here's the code to print this pattern using nested while loops in Python:\n",
    "i = 1\n",
    "while i <= 5:\n",
    "    j = 1\n",
    "    while j <= i:\n",
    "        print(\"*\", end=\"\")\n",
    "        j += 1\n",
    "    print()\n",
    "    i += 1\n",
    "\n",
    "#In this example, we use two while loops to print a triangle of stars. The outer loop iterates over the rows of the triangle (from 1 to 5), and the inner loop iterates over the columns of each row (from 1 to the current row number). For each column, we print a single asterisk (*), and then move to the next column. After printing all the columns for a given row, we move to the next row and repeat the process.\n",
    "\n",
    "#Same as pattern 2 and 3 are as follows-\n",
    "\n",
    "'''Pattern 2:\n",
    "1\n",
    "12\n",
    "123\n",
    "1234\n",
    "12345  '''\n",
    "\n",
    "#Here's the code to print this pattern using nested while loops in Python:\n",
    "i = 1\n",
    "while i <= 5:\n",
    "    j = 1\n",
    "    while j <= i:\n",
    "        print(j, end=\"\")\n",
    "        j += 1\n",
    "    print()\n",
    "    i += 1\n",
    "\n",
    "#Pattern 3:\n",
    "''' *****\n",
    "    ****\n",
    "    ***\n",
    "    **\n",
    "    *    '''\n",
    "\n",
    "#Here's the code to print this pattern using nested while loops in Python:\n",
    "\n",
    "i = 5\n",
    "while i >= 1:\n",
    "    j = 1\n",
    "    while j <= i:\n",
    "        print(\"*\", end=\"\")\n",
    "        j += 1\n",
    "    print()\n",
    "    i -= 1\n"
   ]
  },
  {
   "cell_type": "code",
   "execution_count": 1,
   "id": "b30153da-7e2d-4887-b132-642835b1cc31",
   "metadata": {},
   "outputs": [
    {
     "name": "stdout",
     "output_type": "stream",
     "text": [
      "10\n",
      "9\n",
      "8\n",
      "7\n",
      "6\n",
      "5\n",
      "4\n",
      "3\n",
      "2\n",
      "1\n"
     ]
    }
   ],
   "source": [
    "'''Q. 7 and 8 are Same \n",
    "Ans-\n",
    "In this example, we start with the value of i set to 10, and then use a while loop to repeatedly print the current value of i and decrement it by 1. \n",
    "The loop continues until i is less than 1, at which point the loop terminates. This results in the numbers 10 through 1 being printed in reverse order.'''\n",
    "\n",
    "i = 10\n",
    "while i >= 1:\n",
    "    print(i)\n",
    "    i =i - 1"
   ]
  },
  {
   "cell_type": "code",
   "execution_count": null,
   "id": "ba2e9609-53b4-4d09-b6fa-9a42e6079c29",
   "metadata": {},
   "outputs": [],
   "source": []
  }
 ],
 "metadata": {
  "kernelspec": {
   "display_name": "Python 3 (ipykernel)",
   "language": "python",
   "name": "python3"
  },
  "language_info": {
   "codemirror_mode": {
    "name": "ipython",
    "version": 3
   },
   "file_extension": ".py",
   "mimetype": "text/x-python",
   "name": "python",
   "nbconvert_exporter": "python",
   "pygments_lexer": "ipython3",
   "version": "3.10.8"
  }
 },
 "nbformat": 4,
 "nbformat_minor": 5
}
